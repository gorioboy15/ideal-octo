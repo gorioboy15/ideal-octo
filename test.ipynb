{
 "metadata": {
  "orig_nbformat": 2,
  "kernelspec": {
   "name": "python395jvsc74a57bd098e61a50f40351634ce7854f37dfd18e4978916108f84c20eaa1a92c0f9f5197",
   "display_name": "Python 3.9.5  ('env': venv)"
  },
  "metadata": {
   "interpreter": {
    "hash": "98e61a50f40351634ce7854f37dfd18e4978916108f84c20eaa1a92c0f9f5197"
   }
  }
 },
 "nbformat": 4,
 "nbformat_minor": 2,
 "cells": [
  {
   "cell_type": "code",
   "execution_count": 1,
   "metadata": {},
   "outputs": [],
   "source": [
    "from td.client import TDClient\n",
    "from config import client_id,td_id,td_pwd,old15_accnt,main_accnt,ira15_accnt \n",
    "from datetime import datetime\n",
    "from datetime import timedelta\n",
    "import time\n",
    "import pprint\n",
    "import pandas as pd\n",
    "from b_s_order import buy_sell_market,buy_sell_stop,buy_sell_limit\n",
    "import os"
   ]
  },
  {
   "cell_type": "code",
   "execution_count": 2,
   "metadata": {},
   "outputs": [],
   "source": [
    "cdir = os.getcwd()\n",
    "tdsession = TDClient(\n",
    "    client_id=client_id,\n",
    "    redirect_uri='http://localhost',\n",
    "    credentials_path=cdir + r'\\tdameritrade.json'         \n",
    ")"
   ]
  },
  {
   "cell_type": "code",
   "execution_count": 4,
   "metadata": {},
   "outputs": [
    {
     "output_type": "execute_result",
     "data": {
      "text/plain": [
       "True"
      ]
     },
     "metadata": {},
     "execution_count": 4
    }
   ],
   "source": [
    "tdsession.login()"
   ]
  },
  {
   "cell_type": "code",
   "execution_count": null,
   "metadata": {},
   "outputs": [],
   "source": [
    "#tdsession.place_order(main_accnt, buy_sell_limit('sell',1.15,1,'novn'))\n",
    "#tdsession.place_order(main_accnt, buy_sell_stop('sell',1.00,1,'novn'))\n",
    "#tdsession.place_order(main_accnt,buy_sell_market('sell',1,'novn'))"
   ]
  },
  {
   "cell_type": "code",
   "execution_count": 5,
   "metadata": {},
   "outputs": [],
   "source": [
    "getord=tdsession.get_orders(main_accnt)"
   ]
  },
  {
   "cell_type": "code",
   "execution_count": 6,
   "metadata": {},
   "outputs": [
    {
     "output_type": "execute_result",
     "data": {
      "text/plain": [
       "[]"
      ]
     },
     "metadata": {},
     "execution_count": 6
    }
   ],
   "source": [
    "getord"
   ]
  },
  {
   "cell_type": "code",
   "execution_count": null,
   "metadata": {
    "tags": []
   },
   "outputs": [],
   "source": [
    "for i in range(len(getord)):\n",
    "    if getord[i][\"orderLegCollection\"][0]['instrument']['symbol'] =='novn'.upper():\n",
    "        odid=getord[i]['orderId']"
   ]
  },
  {
   "cell_type": "code",
   "execution_count": null,
   "metadata": {},
   "outputs": [],
   "source": [
    "odid"
   ]
  },
  {
   "cell_type": "code",
   "execution_count": null,
   "metadata": {},
   "outputs": [],
   "source": [
    "#tdsession.cancel_order(main_accnt,'4412376673')\n",
    "#repord=tdsession.place_order(main_accnt, buy_sell_stop('sell',.95,1,'novn'))"
   ]
  },
  {
   "cell_type": "code",
   "execution_count": null,
   "metadata": {},
   "outputs": [],
   "source": [
    "repord['order_id']"
   ]
  },
  {
   "cell_type": "code",
   "execution_count": 7,
   "metadata": {},
   "outputs": [],
   "source": [
    "updatep=tdsession.get_quotes(['MSFT'])\n",
    "#askp['MSFT']['askPrice']"
   ]
  },
  {
   "cell_type": "code",
   "execution_count": 8,
   "metadata": {},
   "outputs": [
    {
     "output_type": "execute_result",
     "data": {
      "text/plain": [
       "{'assetType': 'EQUITY',\n",
       " 'assetMainType': 'EQUITY',\n",
       " 'cusip': '594918104',\n",
       " 'symbol': 'MSFT',\n",
       " 'description': 'Microsoft Corporation - Common Stock',\n",
       " 'bidPrice': 249.15,\n",
       " 'bidSize': 300,\n",
       " 'bidId': 'P',\n",
       " 'askPrice': 249.2,\n",
       " 'askSize': 100,\n",
       " 'askId': 'P',\n",
       " 'lastPrice': 249.2,\n",
       " 'lastSize': 100,\n",
       " 'lastId': 'P',\n",
       " 'openPrice': 245.575,\n",
       " 'highPrice': 249.18,\n",
       " 'lowPrice': 245.49,\n",
       " 'bidTick': ' ',\n",
       " 'closePrice': 248.15,\n",
       " 'netChange': 1.05,\n",
       " 'totalVolume': 23901081,\n",
       " 'quoteTimeInLong': 1621036795765,\n",
       " 'tradeTimeInLong': 1621036795765,\n",
       " 'mark': 248.15,\n",
       " 'exchange': 'q',\n",
       " 'exchangeName': 'NASD',\n",
       " 'marginable': True,\n",
       " 'shortable': True,\n",
       " 'volatility': 0.0086,\n",
       " 'digits': 4,\n",
       " '52WkHigh': 263.19,\n",
       " '52WkLow': 175.68,\n",
       " 'nAV': 0.0,\n",
       " 'peRatio': 33.7717,\n",
       " 'divAmount': 2.24,\n",
       " 'divYield': 0.9,\n",
       " 'divDate': '2021-05-19 00:00:00.000',\n",
       " 'securityStatus': 'Normal',\n",
       " 'regularMarketLastPrice': 248.15,\n",
       " 'regularMarketLastSize': 32083,\n",
       " 'regularMarketNetChange': 0.0,\n",
       " 'regularMarketTradeTimeInLong': 1621022400642,\n",
       " 'netPercentChangeInDouble': 0.4231,\n",
       " 'markChangeInDouble': 0.0,\n",
       " 'markPercentChangeInDouble': 0.0,\n",
       " 'regularMarketPercentChangeInDouble': 0.0,\n",
       " 'delayed': False,\n",
       " 'realtimeEntitled': True}"
      ]
     },
     "metadata": {},
     "execution_count": 8
    }
   ],
   "source": [
    "updatep['MSFT']\n"
   ]
  },
  {
   "cell_type": "code",
   "execution_count": 22,
   "metadata": {},
   "outputs": [],
   "source": [
    "one_min=tdsession.get_price_history('MSFT',None,None,162082620000,1621036799000,'minute',1,False)"
   ]
  },
  {
   "cell_type": "code",
   "execution_count": 23,
   "metadata": {},
   "outputs": [],
   "source": [
    "candles_5m=pd.DataFrame(one_min['candles'])"
   ]
  },
  {
   "cell_type": "code",
   "execution_count": 24,
   "metadata": {},
   "outputs": [
    {
     "output_type": "execute_result",
     "data": {
      "text/plain": [
       "           open      high     low     close  volume       datetime\n",
       "0      233.4400  233.8500  233.31  233.5931  309050  1617111000000\n",
       "1      233.5700  233.7500  232.72  232.7400   85101  1617111060000\n",
       "2      232.7439  232.9797  232.64  232.7600   67593  1617111120000\n",
       "3      232.7500  232.8800  232.46  232.5800   94536  1617111180000\n",
       "4      232.5600  232.8200  232.46  232.7390   91522  1617111240000\n",
       "...         ...       ...     ...       ...     ...            ...\n",
       "12865  248.9700  248.9800  248.70  248.7100   79308  1621022100000\n",
       "12866  248.7000  248.7450  248.59  248.6000   91545  1621022160000\n",
       "12867  248.5904  248.6700  248.50  248.5700  107389  1621022220000\n",
       "12868  248.5600  248.6000  248.19  248.2050  206497  1621022280000\n",
       "12869  248.2050  248.3700  248.00  248.0800  417624  1621022340000\n",
       "\n",
       "[12870 rows x 6 columns]"
      ],
      "text/html": "<div>\n<style scoped>\n    .dataframe tbody tr th:only-of-type {\n        vertical-align: middle;\n    }\n\n    .dataframe tbody tr th {\n        vertical-align: top;\n    }\n\n    .dataframe thead th {\n        text-align: right;\n    }\n</style>\n<table border=\"1\" class=\"dataframe\">\n  <thead>\n    <tr style=\"text-align: right;\">\n      <th></th>\n      <th>open</th>\n      <th>high</th>\n      <th>low</th>\n      <th>close</th>\n      <th>volume</th>\n      <th>datetime</th>\n    </tr>\n  </thead>\n  <tbody>\n    <tr>\n      <th>0</th>\n      <td>233.4400</td>\n      <td>233.8500</td>\n      <td>233.31</td>\n      <td>233.5931</td>\n      <td>309050</td>\n      <td>1617111000000</td>\n    </tr>\n    <tr>\n      <th>1</th>\n      <td>233.5700</td>\n      <td>233.7500</td>\n      <td>232.72</td>\n      <td>232.7400</td>\n      <td>85101</td>\n      <td>1617111060000</td>\n    </tr>\n    <tr>\n      <th>2</th>\n      <td>232.7439</td>\n      <td>232.9797</td>\n      <td>232.64</td>\n      <td>232.7600</td>\n      <td>67593</td>\n      <td>1617111120000</td>\n    </tr>\n    <tr>\n      <th>3</th>\n      <td>232.7500</td>\n      <td>232.8800</td>\n      <td>232.46</td>\n      <td>232.5800</td>\n      <td>94536</td>\n      <td>1617111180000</td>\n    </tr>\n    <tr>\n      <th>4</th>\n      <td>232.5600</td>\n      <td>232.8200</td>\n      <td>232.46</td>\n      <td>232.7390</td>\n      <td>91522</td>\n      <td>1617111240000</td>\n    </tr>\n    <tr>\n      <th>...</th>\n      <td>...</td>\n      <td>...</td>\n      <td>...</td>\n      <td>...</td>\n      <td>...</td>\n      <td>...</td>\n    </tr>\n    <tr>\n      <th>12865</th>\n      <td>248.9700</td>\n      <td>248.9800</td>\n      <td>248.70</td>\n      <td>248.7100</td>\n      <td>79308</td>\n      <td>1621022100000</td>\n    </tr>\n    <tr>\n      <th>12866</th>\n      <td>248.7000</td>\n      <td>248.7450</td>\n      <td>248.59</td>\n      <td>248.6000</td>\n      <td>91545</td>\n      <td>1621022160000</td>\n    </tr>\n    <tr>\n      <th>12867</th>\n      <td>248.5904</td>\n      <td>248.6700</td>\n      <td>248.50</td>\n      <td>248.5700</td>\n      <td>107389</td>\n      <td>1621022220000</td>\n    </tr>\n    <tr>\n      <th>12868</th>\n      <td>248.5600</td>\n      <td>248.6000</td>\n      <td>248.19</td>\n      <td>248.2050</td>\n      <td>206497</td>\n      <td>1621022280000</td>\n    </tr>\n    <tr>\n      <th>12869</th>\n      <td>248.2050</td>\n      <td>248.3700</td>\n      <td>248.00</td>\n      <td>248.0800</td>\n      <td>417624</td>\n      <td>1621022340000</td>\n    </tr>\n  </tbody>\n</table>\n<p>12870 rows × 6 columns</p>\n</div>"
     },
     "metadata": {},
     "execution_count": 24
    }
   ],
   "source": [
    "candles_5m\n"
   ]
  },
  {
   "cell_type": "code",
   "execution_count": 21,
   "metadata": {},
   "outputs": [
    {
     "output_type": "execute_result",
     "data": {
      "text/plain": [
       "datetime.datetime(2021, 5, 14, 12, 59)"
      ]
     },
     "metadata": {},
     "execution_count": 21
    }
   ],
   "source": [
    "datetime.fromtimestamp(1621022340)"
   ]
  },
  {
   "cell_type": "code",
   "execution_count": null,
   "metadata": {},
   "outputs": [],
   "source": [
    "time.strftime('%Y-%m-%d %H:%M:%S', time.localtime(1620935400))"
   ]
  },
  {
   "cell_type": "code",
   "execution_count": null,
   "metadata": {},
   "outputs": [],
   "source": []
  }
 ]
}