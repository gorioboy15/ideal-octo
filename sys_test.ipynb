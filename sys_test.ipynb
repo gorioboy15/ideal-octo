{
 "metadata": {
  "language_info": {
   "codemirror_mode": {
    "name": "ipython",
    "version": 3
   },
   "file_extension": ".py",
   "mimetype": "text/x-python",
   "name": "python",
   "nbconvert_exporter": "python",
   "pygments_lexer": "ipython3",
   "version": "3.9.5"
  },
  "orig_nbformat": 2,
  "kernelspec": {
   "name": "python395jvsc74a57bd07e8253ee19acd96045e88abd997da1131d88bf073ca8b526e23a5a889b055d1b",
   "display_name": "Python 3.9.5 64-bit"
  }
 },
 "nbformat": 4,
 "nbformat_minor": 2,
 "cells": [
  {
   "cell_type": "code",
   "execution_count": null,
   "metadata": {},
   "outputs": [],
   "source": [
    "import sys"
   ]
  },
  {
   "cell_type": "code",
   "execution_count": 8,
   "metadata": {},
   "outputs": [
    {
     "output_type": "stream",
     "name": "stderr",
     "text": [
      "hello"
     ]
    }
   ],
   "source": [
    "sys.stderr.write('hello')"
   ]
  },
  {
   "cell_type": "code",
   "execution_count": 9,
   "metadata": {},
   "outputs": [],
   "source": [
    "l = sys.argv"
   ]
  },
  {
   "cell_type": "code",
   "execution_count": 22,
   "metadata": {},
   "outputs": [
    {
     "output_type": "execute_result",
     "data": {
      "text/plain": [
       "('ipykernel_launcher',\n",
       " 'list',\n",
       " 'python',\n",
       " 'c',\n",
       " 'jave',\n",
       " '--ip=127.0.0.1',\n",
       " '--stdin=9013',\n",
       " '--control=9011',\n",
       " '--hb=9010',\n",
       " '--Session.signature_scheme=\"hmac-sha256\"',\n",
       " 'lito',\n",
       " '--Session.key=b\"49240542-d5d9-4812-a71b-bcd3329bf673\"')"
      ]
     },
     "metadata": {},
     "execution_count": 22
    }
   ],
   "source": [
    "l[0],'list','python','c','jave',l[1],l[2],l[3],l[4],l[5],'lito',l[6]"
   ]
  },
  {
   "cell_type": "code",
   "execution_count": 26,
   "metadata": {},
   "outputs": [
    {
     "output_type": "execute_result",
     "data": {
      "text/plain": [
       "list"
      ]
     },
     "metadata": {},
     "execution_count": 26
    }
   ],
   "source": [
    "type(sys.argv)"
   ]
  },
  {
   "cell_type": "code",
   "execution_count": 34,
   "metadata": {},
   "outputs": [
    {
     "output_type": "execute_result",
     "data": {
      "text/plain": [
       "<_io.TextIOWrapper name='<stdin>' mode='r' encoding='utf-8'>"
      ]
     },
     "metadata": {},
     "execution_count": 34
    }
   ],
   "source": [
    "l='list'\n",
    "sys.stdin"
   ]
  },
  {
   "cell_type": "code",
   "execution_count": 36,
   "metadata": {},
   "outputs": [
    {
     "output_type": "execute_result",
     "data": {
      "text/plain": [
       "53"
      ]
     },
     "metadata": {},
     "execution_count": 36
    }
   ],
   "source": [
    "sys.getsizeof(l)"
   ]
  },
  {
   "cell_type": "code",
   "execution_count": null,
   "metadata": {},
   "outputs": [],
   "source": []
  }
 ]
}